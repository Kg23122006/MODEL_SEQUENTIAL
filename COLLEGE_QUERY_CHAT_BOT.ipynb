{
  "nbformat": 4,
  "nbformat_minor": 0,
  "metadata": {
    "colab": {
      "provenance": [],
      "authorship_tag": "ABX9TyPlYB/T9e9AWN8YqOk4nlbq",
      "include_colab_link": true
    },
    "kernelspec": {
      "name": "python3",
      "display_name": "Python 3"
    },
    "language_info": {
      "name": "python"
    }
  },
  "cells": [
    {
      "cell_type": "markdown",
      "metadata": {
        "id": "view-in-github",
        "colab_type": "text"
      },
      "source": [
        "<a href=\"https://colab.research.google.com/github/Kg23122006/MODEL_SEQUENTIAL/blob/main/COLLEGE_QUERY_CHAT_BOT.ipynb\" target=\"_parent\"><img src=\"https://colab.research.google.com/assets/colab-badge.svg\" alt=\"Open In Colab\"/></a>"
      ]
    },
    {
      "cell_type": "markdown",
      "source": [
        "Title: COLLEGE QUERY CHAT BOT"
      ],
      "metadata": {
        "id": "5Earjwv7yE_f"
      }
    },
    {
      "cell_type": "markdown",
      "source": [
        "Step 1: Define a dictionary of questions and answers"
      ],
      "metadata": {
        "id": "WKJqEq2ysIqv"
      }
    },
    {
      "cell_type": "code",
      "execution_count": 5,
      "metadata": {
        "id": "nWEf-VwVsCjf"
      },
      "outputs": [],
      "source": [
        "faq = {\n",
        "    \"admission process\": \"You need to fill out the online application form and submit the required documents. Visit our website for more.\",\n",
        "    \"fee structure\": \"The annual fee is around ₹1,20,000 including tuition and other charges.\",\n",
        "    \"courses offered\": \"We offer B.Tech, M.Tech, BBA, MBA, BSc, and MSc programs.\",\n",
        "    \"hostel facilities\": \"Yes, separate hostels for boys and girls with Wi-Fi, mess, and security are available.\",\n",
        "    \"contact info\": \"You can reach us at +91-9876543210 or email info@college.edu\",\n",
        "    \"placement\": \"We have a strong placement cell with companies like Infosys, TCS, Wipro visiting every year.\"\n",
        "}\n"
      ]
    },
    {
      "cell_type": "markdown",
      "source": [
        "Step 2: Process user input"
      ],
      "metadata": {
        "id": "nSt-ht7fsTSu"
      }
    },
    {
      "cell_type": "code",
      "source": [
        "def get_response(user_query):\n",
        "    user_query = user_query.lower()\n",
        "    for key in faq:\n",
        "        if key in user_query:\n",
        "            return faq[key]\n",
        "    return \"I'm sorry, I couldn't find the answer to that. Please contact the college for more details.\"\n"
      ],
      "metadata": {
        "id": "1hp5MSMqsWJf"
      },
      "execution_count": 6,
      "outputs": []
    },
    {
      "cell_type": "markdown",
      "source": [
        "def:\n",
        "     It means “define a function.”"
      ],
      "metadata": {
        "id": "mg1X0csszoDP"
      }
    },
    {
      "cell_type": "markdown",
      "source": [
        "get_response:\n",
        "    This is the name of the function. You can name functions anything you want."
      ],
      "metadata": {
        "id": "z8q8J0oJzvbe"
      }
    },
    {
      "cell_type": "markdown",
      "source": [
        "(user_query):\n",
        "   This is the input to the function."
      ],
      "metadata": {
        "id": "-O2T3IA0z3Aw"
      }
    },
    {
      "cell_type": "markdown",
      "source": [
        "for key in faq:\n",
        "    This means “for each word (key) in the faq dictionary…”"
      ],
      "metadata": {
        "id": "4vyZdUoU0BKH"
      }
    },
    {
      "cell_type": "markdown",
      "source": [
        "Step 3: Start chatbot loop (interactive)"
      ],
      "metadata": {
        "id": "XUDzdTViseQH"
      }
    },
    {
      "cell_type": "code",
      "source": [
        "def start_chat():\n",
        "    print(\"Welcome to the College Query Chatbot!\")\n",
        "    print(\"Ask your question or type 'exit' to quit.\\n\")\n",
        "\n",
        "    while True:\n",
        "        query = input(\"You: \")\n",
        "        if query.lower() == 'exit':\n",
        "            print(\"Bot: Thank you for visiting. Goodbye!\")\n",
        "            break\n",
        "        response = get_response(query)\n",
        "        print(\"Bot:\", response)\n"
      ],
      "metadata": {
        "id": "NiAQ5VRZsxVf"
      },
      "execution_count": 7,
      "outputs": []
    },
    {
      "cell_type": "markdown",
      "source": [
        "while loop:\n",
        "     “Keep doing this action until I say stop.”"
      ],
      "metadata": {
        "id": "9iTdcH_81GEX"
      }
    },
    {
      "cell_type": "markdown",
      "source": [
        "break:\n",
        "      This stops the loop and ends the function."
      ],
      "metadata": {
        "id": "jbRkmSkl0yHv"
      }
    },
    {
      "cell_type": "markdown",
      "source": [
        "Step 5: Run the chatbot"
      ],
      "metadata": {
        "id": "YAU0nAMLs_RG"
      }
    },
    {
      "cell_type": "code",
      "source": [
        "start_chat()"
      ],
      "metadata": {
        "colab": {
          "base_uri": "https://localhost:8080/"
        },
        "id": "BZmJ29dFs1TW",
        "outputId": "cd33de23-1555-45dc-9107-14d23d3e9b03"
      },
      "execution_count": null,
      "outputs": [
        {
          "output_type": "stream",
          "name": "stdout",
          "text": [
            "Welcome to the College Query Chatbot!\n",
            "Ask your question or type 'exit' to quit.\n",
            "\n",
            "You: i am gokul\n",
            "Bot: I'm sorry, I couldn't find the answer to that. Please contact the college for more details.\n"
          ]
        }
      ]
    }
  ]
}